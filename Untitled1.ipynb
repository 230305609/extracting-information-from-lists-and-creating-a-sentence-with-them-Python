{
  "nbformat": 4,
  "nbformat_minor": 0,
  "metadata": {
    "colab": {
      "provenance": [],
      "authorship_tag": "ABX9TyMfTbZIqVzGCTqjQ6Gtf8po",
      "include_colab_link": true
    },
    "kernelspec": {
      "name": "python3",
      "display_name": "Python 3"
    },
    "language_info": {
      "name": "python"
    }
  },
  "cells": [
    {
      "cell_type": "markdown",
      "metadata": {
        "id": "view-in-github",
        "colab_type": "text"
      },
      "source": [
        "<a href=\"https://colab.research.google.com/github/230305609/extracting-information-from-lists-and-creating-a-sentence-with-them-Python/blob/main/Untitled1.ipynb\" target=\"_parent\"><img src=\"https://colab.research.google.com/assets/colab-badge.svg\" alt=\"Open In Colab\"/></a>"
      ]
    },
    {
      "cell_type": "code",
      "execution_count": 7,
      "metadata": {
        "colab": {
          "base_uri": "https://localhost:8080/"
        },
        "id": "9eJVuSk7Ctuu",
        "outputId": "6d85a7e8-74e2-4d52-d5a0-b67946e5a1a5"
      },
      "outputs": [
        {
          "output_type": "stream",
          "name": "stdout",
          "text": [
            "encontramos uma varianção 3>187564 no cromossomo C na posição G\n",
            "encontramos uma varianção X>245 no cromossomo A na posição C\n",
            "encontramos uma varianção 19>765733 no cromossomo T na posição G\n",
            "encontramos uma varianção 2>85637645 no cromossomo A na posição TD\n",
            "encontramos uma varianção 5>345678564 no cromossomo C na posição ACTG\n",
            "encontramos uma varianção 21>192837 no cromossomo G na posição C\n",
            "encontramos uma varianção 9>561029 no cromossomo T na posição A\n",
            "encontramos uma varianção 20>7986324 no cromossomo G na posição AC\n",
            "encontramos uma varianção 3>1234 no cromossomo A na posição G\n",
            "encontramos uma varianção 6>3473467356 no cromossomo A na posição 5\n"
          ]
        }
      ],
      "source": [
        "variantes = [['3',187564,'C','G'],['X',245,'A','C'],['19',765733,'T','G'],['2',85637645,'A','TD'],['5',345678564,'C','ACTG'],['21',192837,'G','C'],['9',561029,'T','A'],['20',7986324,'G','AC'],['3',1234,'A','G'],['6',3473467356,'A','5']]\n",
        "\n",
        "# variante e minha variavel que vai receber as informações da minha lista variantes\n",
        "# para variante em variantes\n",
        "for variante in variantes:\n",
        "    # cromossomo vai ser igual ao índex o   \n",
        "    cromossomo = variante[0]\n",
        "    # posicao vai ser igual ao índex 1   \n",
        "    posicao = variante[1]\n",
        "    # referencia vai ser igual ao índex 2 \n",
        "    referencia = variante[2]\n",
        "    # alt vai ser igual ao índex 3\n",
        "    alt = variante[3]\n",
        "    print(f'encontramos uma varianção {cromossomo}>{posicao} no cromossomo {referencia} na posição {alt}')"
      ]
    }
  ]
}